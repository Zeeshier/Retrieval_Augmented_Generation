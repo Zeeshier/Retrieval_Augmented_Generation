{
 "cells": [
  {
   "cell_type": "markdown",
   "metadata": {},
   "source": [
    "# Retrieval Augmented Generation (RAG) \n",
    "RAG is a model that combines the best of both worlds: the retrieval-based and the generation-based models. It uses a retriever to find relevant passages and then uses a generator to generate the answer.\n"
   ]
  },
  {
   "cell_type": "markdown",
   "metadata": {},
   "source": [
    "## Document Loading\n",
    "The first step is to load the documents that will be used for retrieval. \n",
    "Loaders are components in LangChain designed to ingest and preprocess data from various sources, preparing it for use with language models."
   ]
  },
  {
   "cell_type": "markdown",
   "metadata": {},
   "source": [
    "### PDF Loader"
   ]
  },
  {
   "cell_type": "code",
   "execution_count": 1,
   "metadata": {},
   "outputs": [],
   "source": [
    "from langchain.document_loaders import PyPDFLoader\n",
    "loader = PyPDFLoader(\"AI_Engineer_Roadmap.pdf\")\n",
    "pages = loader.load()"
   ]
  },
  {
   "cell_type": "code",
   "execution_count": 2,
   "metadata": {},
   "outputs": [
    {
     "data": {
      "text/plain": [
       "13"
      ]
     },
     "execution_count": 2,
     "metadata": {},
     "output_type": "execute_result"
    }
   ],
   "source": [
    "len(pages)"
   ]
  },
  {
   "cell_type": "code",
   "execution_count": 3,
   "metadata": {},
   "outputs": [
    {
     "data": {
      "text/plain": [
       "Document(metadata={'source': 'AI_Engineer_Roadmap.pdf', 'page': 0}, page_content=' \\n   \\ncodebasics.io  \\n \\n1 \\nAI Engineer Roadmap for Beginners  \\nFollowing is the roadmap  to learning  AI Engineer  (also known as ML Engineer ) skills for a total \\nbeginner. It includes FREE learning resources for technical skills (or tool skills) and soft (or core) skills  \\n          \\nPrerequisites : You must have skills or interests  to build skills in Coding and Math. Without these two \\nyou cannot become an AI engineer.  \\nTotal Duration: 8 Months  (4 hours  of study Every Day ) \\nAlso, AI Engineer = Data Scientist + Software Engineer  \\n \\n \\nWeek 0: Do Proper Research and protect yourself from SCAMS.  \\n \\n Unfortunately, a lot of systematic scams are happening in ed tech, especially in the \\ndata field where aspirants are provided with false promises like a 100% job guarantee or \\ntrapped into “Masterclasses” which are nothing but sales pitches to upsell their l ow-grade \\ncourses at exorbitant prices. You need to do complete research about the market and \\nmentors before starting your journey. Providing you the links to a few posts that we have \\nmade in this regard which will support your research.  \\n \\nEven though these  posts are NOT  sufficient, do your additional research.  \\n \\n')"
      ]
     },
     "execution_count": 3,
     "metadata": {},
     "output_type": "execute_result"
    }
   ],
   "source": [
    "page = pages[0]\n",
    "page"
   ]
  },
  {
   "cell_type": "code",
   "execution_count": 9,
   "metadata": {},
   "outputs": [
    {
     "name": "stdout",
     "output_type": "stream",
     "text": [
      " \n",
      "   \n",
      "codebasics.io  \n",
      " \n",
      "1 \n",
      "AI Engineer Roadmap for Beginners  \n",
      "Following is the roadmap  to learning  AI Engineer  (also known as ML Engineer ) skills for a total \n",
      "beginner. It includes FREE learning resources for technical skills (or tool skills) and soft (or core) skills  \n",
      "          \n",
      "Prerequisites : You must have skills or interests  to build skills in Coding and Math. Without these two \n",
      "you cannot become an AI engineer.  \n",
      "Total Duration: 8 Months  (4 hours  of study Every Day ) \n",
      "Also, AI Engi\n"
     ]
    }
   ],
   "source": [
    "print(page.page_content[0:500])"
   ]
  },
  {
   "cell_type": "markdown",
   "metadata": {},
   "source": [
    "### Text Loader"
   ]
  },
  {
   "cell_type": "code",
   "execution_count": 12,
   "metadata": {},
   "outputs": [],
   "source": [
    "from langchain_community.document_loaders import TextLoader\n",
    "loader = TextLoader('sample.txt')\n",
    "text = loader.load()"
   ]
  },
  {
   "cell_type": "code",
   "execution_count": 13,
   "metadata": {},
   "outputs": [
    {
     "data": {
      "text/plain": [
       "1"
      ]
     },
     "execution_count": 13,
     "metadata": {},
     "output_type": "execute_result"
    }
   ],
   "source": [
    "len(text)"
   ]
  },
  {
   "cell_type": "code",
   "execution_count": 14,
   "metadata": {},
   "outputs": [
    {
     "data": {
      "text/plain": [
       "[Document(metadata={'source': 'sample.txt'}, page_content='Install Anaconda or Miniconda\\nMake sure you have Conda installed on your system. You can download and install it from the Anaconda or Miniconda website.\\n\\n2. Install the Python Extension in VS Code\\nOpen VS Code.\\nGo to the Extensions view by clicking on the Extensions icon in the Activity Bar on the side or pressing Ctrl+Shift+X.\\nSearch for Python and install the extension from Microsoft.')]"
      ]
     },
     "execution_count": 14,
     "metadata": {},
     "output_type": "execute_result"
    }
   ],
   "source": [
    "text"
   ]
  },
  {
   "cell_type": "markdown",
   "metadata": {},
   "source": [
    "### Docs Loader"
   ]
  },
  {
   "cell_type": "code",
   "execution_count": 16,
   "metadata": {},
   "outputs": [],
   "source": [
    "from langchain_community.document_loaders import Docx2txtLoader\n",
    "loader = Docx2txtLoader('project dld.docx')\n",
    "text = loader.load()"
   ]
  },
  {
   "cell_type": "code",
   "execution_count": 17,
   "metadata": {},
   "outputs": [
    {
     "data": {
      "text/plain": [
       "[Document(metadata={'source': 'project dld.docx'}, page_content='Project Proposal: Traffic Light Simulation using Arduino\\n\\n\\n\\nProject Title:\\nTraffic Light Simulation System with Arduino\\n\\nProject Objective:\\nThe objective of this project is to design and implement a basic traffic light control system using an Arduino. The system will simulate the operation of traffic lights, with LEDs representing red, yellow, and green lights, which will follow the standard timing sequence seen at intersections.\\n\\nProject Scope:\\nThis project will serve as a beginner-friendly introduction to microcontroller programming, circuit design, and the control of digital outputs. It is suitable for demonstrating how timing and sequencing work in real-life applications, such as traffic management systems.\\n\\n\\n\\n1. Introduction:\\n\\nThe Traffic Light Simulation project aims to mimic the functionality of a real traffic light system using an Arduino. This project will consist of three LEDs (red, yellow, green) that will light up in a sequence to simulate a real-world traffic control system. The system will be programmed with defined intervals to switch between lights, representing stop, caution, and go phases.\\n\\n2. Objectives:\\n\\nTo simulate a simple traffic light system using Arduino.\\n\\nTo understand the basic functioning of digital outputs and timed sequences in Arduino.\\n\\nTo apply practical knowledge of circuit building and microcontroller programming.\\n\\n3. Components Needed:\\n\\nArduino Uno (or any compatible board) – 1x\\n\\nRed LED – 1x\\n\\nYellow LED – 1x\\n\\nGreen LED – 1x\\n\\nResistors (220Ω) – 3x (to protect LEDs)\\n\\nBreadboard – 1x\\n\\nJumper wires – Several (for connecting components)\\n\\nUSB cable – 1x (for programming the Arduino)\\n\\n4. Technical Approach:\\n\\nPhase 1: Hardware Setup\\n\\nAssemble the circuit by connecting the LEDs (red, yellow, and green) to specific digital pins of the Arduino via resistors.\\n\\nThe positive leg of each LED will be connected to the Arduino, and the negative leg will be connected to the ground (GND) pin.\\n\\nPhase 2: Software Design (Arduino Code)\\n\\nWrite an Arduino program to control the switching of the LEDs.\\n\\nDefine time intervals for each LED to be ON or OFF, simulating real traffic light phases:\\n\\nRed LED (Stop) – 5 seconds\\n\\nYellow LED (Caution) – 2 seconds\\n\\nGreen LED (Go) – 5 seconds\\n\\nPhase 3: Testing and Calibration\\n\\nUpload the code to the Arduino and observe the behavior of the LEDs.\\n\\nEnsure the LEDs light up in the correct order and maintain the specified timing for each phase.\\n\\n\\n\\n5. Functional Description:\\n\\nRed Light Phase: The red LED will light up, indicating a stop signal. This phase will last for 5 seconds.\\n\\nYellow Light Phase: The yellow LED will light up for 2 seconds, warning that the light is about to change.\\n\\nGreen Light Phase: The green LED will light up for 5 seconds, indicating it is safe to go.\\n\\nThe system will loop continuously, simulating an uninterrupted traffic light cycle.')]"
      ]
     },
     "execution_count": 17,
     "metadata": {},
     "output_type": "execute_result"
    }
   ],
   "source": [
    "text"
   ]
  },
  {
   "cell_type": "code",
   "execution_count": 18,
   "metadata": {},
   "outputs": [
    {
     "data": {
      "text/plain": [
       "{'source': 'project dld.docx'}"
      ]
     },
     "execution_count": 18,
     "metadata": {},
     "output_type": "execute_result"
    }
   ],
   "source": [
    "text[0].metadata"
   ]
  },
  {
   "cell_type": "markdown",
   "metadata": {},
   "source": [
    "### URL Loader"
   ]
  },
  {
   "cell_type": "code",
   "execution_count": 20,
   "metadata": {},
   "outputs": [],
   "source": [
    "from langchain.document_loaders import WebBaseLoader\n",
    "loader = WebBaseLoader('https://www.python.org/')"
   ]
  },
  {
   "cell_type": "code",
   "execution_count": 21,
   "metadata": {},
   "outputs": [],
   "source": [
    "docs = loader.load()"
   ]
  },
  {
   "cell_type": "code",
   "execution_count": 22,
   "metadata": {},
   "outputs": [
    {
     "data": {
      "text/plain": [
       "[Document(metadata={'source': 'https://www.python.org/', 'title': 'Welcome to Python.org', 'description': 'The official home of the Python Programming Language', 'language': 'en'}, page_content='\\n\\n\\n\\n \\n\\n\\n\\n\\n\\n\\n\\n\\n\\n\\n\\n\\n\\n\\n\\n\\n\\n\\n\\n\\n\\n\\n\\n\\n\\n\\n\\n\\n\\n\\n\\n\\n\\n\\n\\n\\nWelcome to Python.org\\n\\n\\n\\n\\n\\n\\n\\n\\n\\n\\n\\n\\n\\n\\n\\n\\n\\n\\n\\n\\n\\nNotice: While JavaScript is not essential for this website, your interaction with the content will be limited. Please turn JavaScript on for the full experience. \\n\\n\\n\\n\\n\\n\\nSkip to content\\n\\n\\n▼ Close\\n                \\n\\n\\nPython\\n\\n\\nPSF\\n\\n\\nDocs\\n\\n\\nPyPI\\n\\n\\nJobs\\n\\n\\nCommunity\\n\\n\\n\\n▲ The Python Network\\n                \\n\\n\\n\\n\\n\\n\\n\\n\\n\\nDonate\\n\\n≡ Menu\\n\\n\\nSearch This Site\\n\\n\\n                                    GO\\n                                \\n\\n\\n\\n\\n\\nA A\\n\\nSmaller\\nLarger\\nReset\\n\\n\\n\\n\\n\\n\\nSocialize\\n\\nLinkedIn\\nMastodon\\nChat on IRC\\nTwitter\\n\\n\\n\\n\\n\\n\\n\\n\\n\\n\\nAbout\\n\\nApplications\\nQuotes\\nGetting Started\\nHelp\\nPython Brochure\\n\\n\\n\\nDownloads\\n\\nAll releases\\nSource code\\nWindows\\nmacOS\\nOther Platforms\\nLicense\\nAlternative Implementations\\n\\n\\n\\nDocumentation\\n\\nDocs\\nAudio/Visual Talks\\nBeginner\\'s Guide\\nDeveloper\\'s Guide\\nFAQ\\nNon-English Docs\\nPEP Index\\nPython Books\\nPython Essays\\n\\n\\n\\nCommunity\\n\\nDiversity\\nMailing Lists\\nIRC\\nForums\\nPSF Annual Impact Report\\nPython Conferences\\nSpecial Interest Groups\\nPython Logo\\nPython Wiki\\nCode of Conduct\\nCommunity Awards\\nGet Involved\\nShared Stories\\n\\n\\n\\nSuccess Stories\\n\\nArts\\nBusiness\\nEducation\\nEngineering\\nGovernment\\nScientific\\nSoftware Development\\n\\n\\n\\nNews\\n\\nPython News\\nPSF Newsletter\\nPSF News\\nPyCon US News\\nNews from the Community\\n\\n\\n\\nEvents\\n\\nPython Events\\nUser Group Events\\nPython Events Archive\\nUser Group Events Archive\\nSubmit an Event\\n\\n\\n\\n\\n \\n\\n\\n\\n>_\\n                        Launch Interactive Shell\\n\\n\\n\\n\\n\\n# Python 3: Fibonacci series up to n\\r\\n>>> def fib(n):\\r\\n>>>     a, b = 0, 1\\r\\n>>>     while a < n:\\r\\n>>>         print(a, end=\\' \\')\\r\\n>>>         a, b = b, a+b\\r\\n>>>     print()\\r\\n>>> fib(1000)\\r\\n0 1 1 2 3 5 8 13 21 34 55 89 144 233 377 610 987\\nFunctions Defined\\nThe core of extensible programming is defining functions. Python allows mandatory and optional arguments, keyword arguments, and even arbitrary argument lists. More about defining functions in Python\\xa03\\n\\n\\n# Python 3: List comprehensions\\r\\n>>> fruits = [\\'Banana\\', \\'Apple\\', \\'Lime\\']\\r\\n>>> loud_fruits = [fruit.upper() for fruit in fruits]\\r\\n>>> print(loud_fruits)\\r\\n[\\'BANANA\\', \\'APPLE\\', \\'LIME\\']\\r\\n\\r\\n# List and the enumerate function\\r\\n>>> list(enumerate(fruits))\\r\\n[(0, \\'Banana\\'), (1, \\'Apple\\'), (2, \\'Lime\\')]\\nCompound Data Types\\nLists (known as arrays in other languages) are one of the compound data types that Python understands. Lists can be indexed, sliced and manipulated with other built-in functions. More about lists in Python\\xa03\\n\\n\\n# Python 3: Simple arithmetic\\r\\n>>> 1 / 2\\r\\n0.5\\r\\n>>> 2 ** 3\\r\\n8\\r\\n>>> 17 / 3  # classic division returns a float\\r\\n5.666666666666667\\r\\n>>> 17 // 3  # floor division\\r\\n5\\nIntuitive Interpretation\\nCalculations are simple with Python, and expression syntax is straightforward: the operators +, -, * and / work as expected; parentheses () can be used for grouping. More about simple math functions in Python\\xa03.\\n\\n\\n# For loop on a list\\r\\n>>> numbers = [2, 4, 6, 8]\\r\\n>>> product = 1\\r\\n>>> for number in numbers:\\r\\n...    product = product * number\\r\\n... \\r\\n>>> print(\\'The product is:\\', product)\\r\\nThe product is: 384\\nAll the Flow You’d Expect\\nPython knows the usual control flow statements that other languages speak — if, for, while and range — with some of its own twists, of course. More control flow tools in Python\\xa03\\n\\n\\n# Simple output (with Unicode)\\r\\n>>> print(\"Hello, I\\'m Python!\")\\r\\nHello, I\\'m Python!\\r\\n# Input, assignment\\r\\n>>> name = input(\\'What is your name?\\\\n\\')\\r\\nWhat is your name?\\r\\nPython\\r\\n>>> print(f\\'Hi, {name}.\\')\\r\\nHi, Python.\\r\\n\\nQuick & Easy to Learn\\nExperienced programmers in any other language can pick up Python very quickly, and beginners find the clean syntax and indentation structure easy to learn. Whet your appetite with our Python\\xa03 overview.\\n\\n\\n\\n\\n\\nPython is a programming language that lets you work quickly and integrate systems more effectively. Learn More\\n\\n\\n\\n\\n\\n\\n\\n\\n\\n\\n\\nJoin the official Python Developers Survey 2024 and have a chance to win a prize \\xa0\\xa0Take the 2024 survey!\\n\\n\\n\\n\\nGet Started\\nWhether you\\'re new to programming or an experienced developer, it\\'s easy to learn and use Python.\\nStart with our Beginner’s Guide\\n\\n\\nDownload\\nPython source code and installers are available for download for all versions!\\nLatest: Python 3.13.0\\n\\n\\nDocs\\nDocumentation for Python\\'s standard library, along with tutorials and guides, are available online.\\ndocs.python.org\\n\\n\\nJobs\\nLooking for work or have a Python related position that you\\'re trying to hire for? Our relaunched community-run job board is the place to go.\\njobs.python.org\\n\\n\\n\\n\\n\\nLatest News\\nMore\\n\\n\\n2024-10-15\\nPython 3.14.0 alpha 1 is now available\\n\\n2024-10-08\\nPSF Q3 Highlights: Board news, development updates and more!\\n\\n2024-10-08\\nJoin the Python Developers Survey 2024: Share your experience!\\n\\n2024-10-07\\nPython 3.13.0 (final) released\\n\\n2024-10-02\\nPython 3.13 and the Latest Trends: A Developer\\'s Guide to 2025 - Live Stream Event\\n\\n\\n\\n\\n\\nUpcoming Events\\nMore\\n\\n\\n2024-10-24\\nOctober Oslo Python meetup\\n\\n2024-10-25\\nPyCon Korea 2024\\n\\n2024-10-25\\nPyCon APAC 2024\\n\\n2024-10-26\\nPythonHo Conference 2024\\n\\n2024-10-26\\nPyCon Korea 2024\\n\\n\\n\\n\\n\\n\\n\\nSuccess Stories\\nMore\\n\\n\\n\"Some of the things [SonarCloud] spots are impressive (probably driven by some introspection and/or type inference), not just the simple pattern matching that I am used to in most of the flake8 ecosystem.\"\\r\\n- Peter J. A. Cock - maintainer of BioPython\\n\\n\\n\\n\\nDeliver Clean and Safe Code for Your Python Applications by Kirti Joshi, Nicolas Bontoux\\n\\n\\n\\n\\n\\n\\n\\n\\nUse Python for…\\nMore\\n\\nWeb Development:\\r\\n        Django, Pyramid, Bottle, Tornado, Flask, web2py\\nGUI Development:\\r\\n        tkInter, PyGObject, PyQt, PySide, Kivy, wxPython, DearPyGui\\nScientific and Numeric:\\r\\n        \\nSciPy, Pandas, IPython\\nSoftware Development:\\r\\n        Buildbot, Trac, Roundup\\nSystem Administration:\\r\\n        Ansible, Salt, OpenStack, xonsh\\n\\n\\n\\n\\n\\n\\n\\n>>> Python Software Foundation\\n\\nThe mission of the Python Software Foundation is to promote, protect, and advance the Python programming language, and to support and facilitate the growth of a diverse and international community of Python programmers. Learn more \\n\\nBecome a Member\\nDonate to the PSF\\n\\n\\n\\n\\n\\n\\n\\n\\n\\n▲ Back to Top\\n\\n\\nAbout\\n\\nApplications\\nQuotes\\nGetting Started\\nHelp\\nPython Brochure\\n\\n\\n\\nDownloads\\n\\nAll releases\\nSource code\\nWindows\\nmacOS\\nOther Platforms\\nLicense\\nAlternative Implementations\\n\\n\\n\\nDocumentation\\n\\nDocs\\nAudio/Visual Talks\\nBeginner\\'s Guide\\nDeveloper\\'s Guide\\nFAQ\\nNon-English Docs\\nPEP Index\\nPython Books\\nPython Essays\\n\\n\\n\\nCommunity\\n\\nDiversity\\nMailing Lists\\nIRC\\nForums\\nPSF Annual Impact Report\\nPython Conferences\\nSpecial Interest Groups\\nPython Logo\\nPython Wiki\\nCode of Conduct\\nCommunity Awards\\nGet Involved\\nShared Stories\\n\\n\\n\\nSuccess Stories\\n\\nArts\\nBusiness\\nEducation\\nEngineering\\nGovernment\\nScientific\\nSoftware Development\\n\\n\\n\\nNews\\n\\nPython News\\nPSF Newsletter\\nPSF News\\nPyCon US News\\nNews from the Community\\n\\n\\n\\nEvents\\n\\nPython Events\\nUser Group Events\\nPython Events Archive\\nUser Group Events Archive\\nSubmit an Event\\n\\n\\n\\nContributing\\n\\nDeveloper\\'s Guide\\nIssue Tracker\\npython-dev list\\nCore Mentorship\\nReport a Security Issue\\n\\n\\n\\n▲ Back to Top\\n\\n \\n\\n\\n\\nHelp & General Contact\\nDiversity Initiatives\\nSubmit Website Bug\\n\\nStatus \\n\\n\\n\\n\\nCopyright ©2001-2024.\\n                            \\xa0Python Software Foundation\\n                            \\xa0Legal Statements\\n                            \\xa0Privacy Notice\\n\\n\\n\\n\\n\\n\\n\\n\\n\\n\\n\\n\\n\\n\\n\\n\\n\\n\\n')]"
      ]
     },
     "execution_count": 22,
     "metadata": {},
     "output_type": "execute_result"
    }
   ],
   "source": [
    "docs"
   ]
  }
 ],
 "metadata": {
  "kernelspec": {
   "display_name": "conda",
   "language": "python",
   "name": "python3"
  },
  "language_info": {
   "codemirror_mode": {
    "name": "ipython",
    "version": 3
   },
   "file_extension": ".py",
   "mimetype": "text/x-python",
   "name": "python",
   "nbconvert_exporter": "python",
   "pygments_lexer": "ipython3",
   "version": "3.12.4"
  }
 },
 "nbformat": 4,
 "nbformat_minor": 2
}
