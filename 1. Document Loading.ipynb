{
 "cells": [
  {
   "cell_type": "markdown",
   "metadata": {},
   "source": [
    "# Retrieval Augmented Generation (RAG) \n",
    "RAG is a model that combines the best of both worlds: the retrieval-based and the generation-based models. It uses a retriever to find relevant passages and then uses a generator to generate the answer.\n"
   ]
  },
  {
   "cell_type": "markdown",
   "metadata": {},
   "source": [
    "## Document Loading\n",
    "The first step is to load the documents that will be used for retrieval. \n",
    "Loaders are components in LangChain designed to ingest and preprocess data from various sources, preparing it for use with language models."
   ]
  },
  {
   "cell_type": "markdown",
   "metadata": {},
   "source": [
    "### PDF Loader"
   ]
  },
  {
   "cell_type": "code",
   "execution_count": 1,
   "metadata": {},
   "outputs": [],
   "source": [
    "from langchain.document_loaders import PyPDFLoader\n",
    "loader = PyPDFLoader(\"AI_Engineer_Roadmap.pdf\")\n",
    "pages = loader.load()"
   ]
  },
  {
   "cell_type": "code",
   "execution_count": 2,
   "metadata": {},
   "outputs": [
    {
     "data": {
      "text/plain": [
       "13"
      ]
     },
     "execution_count": 2,
     "metadata": {},
     "output_type": "execute_result"
    }
   ],
   "source": [
    "len(pages)"
   ]
  },
  {
   "cell_type": "code",
   "execution_count": 3,
   "metadata": {},
   "outputs": [
    {
     "data": {
      "text/plain": [
       "Document(metadata={'source': 'AI_Engineer_Roadmap.pdf', 'page': 0}, page_content=' \\n   \\ncodebasics.io  \\n \\n1 \\nAI Engineer Roadmap for Beginners  \\nFollowing is the roadmap  to learning  AI Engineer  (also known as ML Engineer ) skills for a total \\nbeginner. It includes FREE learning resources for technical skills (or tool skills) and soft (or core) skills  \\n          \\nPrerequisites : You must have skills or interests  to build skills in Coding and Math. Without these two \\nyou cannot become an AI engineer.  \\nTotal Duration: 8 Months  (4 hours  of study Every Day ) \\nAlso, AI Engineer = Data Scientist + Software Engineer  \\n \\n \\nWeek 0: Do Proper Research and protect yourself from SCAMS.  \\n \\n Unfortunately, a lot of systematic scams are happening in ed tech, especially in the \\ndata field where aspirants are provided with false promises like a 100% job guarantee or \\ntrapped into “Masterclasses” which are nothing but sales pitches to upsell their l ow-grade \\ncourses at exorbitant prices. You need to do complete research about the market and \\nmentors before starting your journey. Providing you the links to a few posts that we have \\nmade in this regard which will support your research.  \\n \\nEven though these  posts are NOT  sufficient, do your additional research.  \\n \\n')"
      ]
     },
     "execution_count": 3,
     "metadata": {},
     "output_type": "execute_result"
    }
   ],
   "source": [
    "page = pages[0]\n",
    "page"
   ]
  },
  {
   "cell_type": "code",
   "execution_count": 9,
   "metadata": {},
   "outputs": [
    {
     "name": "stdout",
     "output_type": "stream",
     "text": [
      " \n",
      "   \n",
      "codebasics.io  \n",
      " \n",
      "1 \n",
      "AI Engineer Roadmap for Beginners  \n",
      "Following is the roadmap  to learning  AI Engineer  (also known as ML Engineer ) skills for a total \n",
      "beginner. It includes FREE learning resources for technical skills (or tool skills) and soft (or core) skills  \n",
      "          \n",
      "Prerequisites : You must have skills or interests  to build skills in Coding and Math. Without these two \n",
      "you cannot become an AI engineer.  \n",
      "Total Duration: 8 Months  (4 hours  of study Every Day ) \n",
      "Also, AI Engi\n"
     ]
    }
   ],
   "source": [
    "print(page.page_content[0:500])"
   ]
  },
  {
   "cell_type": "markdown",
   "metadata": {},
   "source": [
    "### Text Loader"
   ]
  },
  {
   "cell_type": "code",
   "execution_count": 12,
   "metadata": {},
   "outputs": [],
   "source": [
    "from langchain_community.document_loaders import TextLoader\n",
    "loader = TextLoader('sample.txt')\n",
    "text = loader.load()"
   ]
  },
  {
   "cell_type": "code",
   "execution_count": 13,
   "metadata": {},
   "outputs": [
    {
     "data": {
      "text/plain": [
       "1"
      ]
     },
     "execution_count": 13,
     "metadata": {},
     "output_type": "execute_result"
    }
   ],
   "source": [
    "len(text)"
   ]
  },
  {
   "cell_type": "code",
   "execution_count": 14,
   "metadata": {},
   "outputs": [
    {
     "data": {
      "text/plain": [
       "[Document(metadata={'source': 'sample.txt'}, page_content='Install Anaconda or Miniconda\\nMake sure you have Conda installed on your system. You can download and install it from the Anaconda or Miniconda website.\\n\\n2. Install the Python Extension in VS Code\\nOpen VS Code.\\nGo to the Extensions view by clicking on the Extensions icon in the Activity Bar on the side or pressing Ctrl+Shift+X.\\nSearch for Python and install the extension from Microsoft.')]"
      ]
     },
     "execution_count": 14,
     "metadata": {},
     "output_type": "execute_result"
    }
   ],
   "source": [
    "text"
   ]
  },
  {
   "cell_type": "markdown",
   "metadata": {},
   "source": [
    "### Docs Loader"
   ]
  },
  {
   "cell_type": "code",
   "execution_count": 16,
   "metadata": {},
   "outputs": [],
   "source": [
    "from langchain_community.document_loaders import Docx2txtLoader\n",
    "loader = Docx2txtLoader('project dld.docx')\n",
    "text = loader.load()"
   ]
  },
  {
   "cell_type": "code",
   "execution_count": 17,
   "metadata": {},
   "outputs": [
    {
     "data": {
      "text/plain": [
       "[Document(metadata={'source': 'project dld.docx'}, page_content='Project Proposal: Traffic Light Simulation using Arduino\\n\\n\\n\\nProject Title:\\nTraffic Light Simulation System with Arduino\\n\\nProject Objective:\\nThe objective of this project is to design and implement a basic traffic light control system using an Arduino. The system will simulate the operation of traffic lights, with LEDs representing red, yellow, and green lights, which will follow the standard timing sequence seen at intersections.\\n\\nProject Scope:\\nThis project will serve as a beginner-friendly introduction to microcontroller programming, circuit design, and the control of digital outputs. It is suitable for demonstrating how timing and sequencing work in real-life applications, such as traffic management systems.\\n\\n\\n\\n1. Introduction:\\n\\nThe Traffic Light Simulation project aims to mimic the functionality of a real traffic light system using an Arduino. This project will consist of three LEDs (red, yellow, green) that will light up in a sequence to simulate a real-world traffic control system. The system will be programmed with defined intervals to switch between lights, representing stop, caution, and go phases.\\n\\n2. Objectives:\\n\\nTo simulate a simple traffic light system using Arduino.\\n\\nTo understand the basic functioning of digital outputs and timed sequences in Arduino.\\n\\nTo apply practical knowledge of circuit building and microcontroller programming.\\n\\n3. Components Needed:\\n\\nArduino Uno (or any compatible board) – 1x\\n\\nRed LED – 1x\\n\\nYellow LED – 1x\\n\\nGreen LED – 1x\\n\\nResistors (220Ω) – 3x (to protect LEDs)\\n\\nBreadboard – 1x\\n\\nJumper wires – Several (for connecting components)\\n\\nUSB cable – 1x (for programming the Arduino)\\n\\n4. Technical Approach:\\n\\nPhase 1: Hardware Setup\\n\\nAssemble the circuit by connecting the LEDs (red, yellow, and green) to specific digital pins of the Arduino via resistors.\\n\\nThe positive leg of each LED will be connected to the Arduino, and the negative leg will be connected to the ground (GND) pin.\\n\\nPhase 2: Software Design (Arduino Code)\\n\\nWrite an Arduino program to control the switching of the LEDs.\\n\\nDefine time intervals for each LED to be ON or OFF, simulating real traffic light phases:\\n\\nRed LED (Stop) – 5 seconds\\n\\nYellow LED (Caution) – 2 seconds\\n\\nGreen LED (Go) – 5 seconds\\n\\nPhase 3: Testing and Calibration\\n\\nUpload the code to the Arduino and observe the behavior of the LEDs.\\n\\nEnsure the LEDs light up in the correct order and maintain the specified timing for each phase.\\n\\n\\n\\n5. Functional Description:\\n\\nRed Light Phase: The red LED will light up, indicating a stop signal. This phase will last for 5 seconds.\\n\\nYellow Light Phase: The yellow LED will light up for 2 seconds, warning that the light is about to change.\\n\\nGreen Light Phase: The green LED will light up for 5 seconds, indicating it is safe to go.\\n\\nThe system will loop continuously, simulating an uninterrupted traffic light cycle.')]"
      ]
     },
     "execution_count": 17,
     "metadata": {},
     "output_type": "execute_result"
    }
   ],
   "source": [
    "text"
   ]
  },
  {
   "cell_type": "code",
   "execution_count": 18,
   "metadata": {},
   "outputs": [
    {
     "data": {
      "text/plain": [
       "{'source': 'project dld.docx'}"
      ]
     },
     "execution_count": 18,
     "metadata": {},
     "output_type": "execute_result"
    }
   ],
   "source": [
    "text[0].metadata"
   ]
  },
  {
   "cell_type": "markdown",
   "metadata": {},
   "source": [
    "### URL Loader"
   ]
  }
 ],
 "metadata": {
  "kernelspec": {
   "display_name": "conda",
   "language": "python",
   "name": "python3"
  },
  "language_info": {
   "codemirror_mode": {
    "name": "ipython",
    "version": 3
   },
   "file_extension": ".py",
   "mimetype": "text/x-python",
   "name": "python",
   "nbconvert_exporter": "python",
   "pygments_lexer": "ipython3",
   "version": "3.12.4"
  }
 },
 "nbformat": 4,
 "nbformat_minor": 2
}
