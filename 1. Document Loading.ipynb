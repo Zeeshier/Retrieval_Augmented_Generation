{
 "cells": [
  {
   "cell_type": "markdown",
   "metadata": {},
   "source": [
    "# Retrieval Augmented Generation (RAG) \n",
    "RAG is a model that combines the best of both worlds: the retrieval-based and the generation-based models. It uses a retriever to find relevant passages and then uses a generator to generate the answer.\n"
   ]
  },
  {
   "cell_type": "markdown",
   "metadata": {},
   "source": [
    "## Document Loading\n",
    "The first step is to load the documents that will be used for retrieval. \n",
    "Loaders are components in LangChain designed to ingest and preprocess data from various sources, preparing it for use with language models."
   ]
  },
  {
   "cell_type": "markdown",
   "metadata": {},
   "source": [
    "### PDF Loader"
   ]
  },
  {
   "cell_type": "code",
   "execution_count": 1,
   "metadata": {},
   "outputs": [],
   "source": [
    "from langchain.document_loaders import PyPDFLoader\n",
    "loader = PyPDFLoader(\"AI_Engineer_Roadmap.pdf\")\n",
    "pages = loader.load()"
   ]
  },
  {
   "cell_type": "code",
   "execution_count": 2,
   "metadata": {},
   "outputs": [
    {
     "data": {
      "text/plain": [
       "13"
      ]
     },
     "execution_count": 2,
     "metadata": {},
     "output_type": "execute_result"
    }
   ],
   "source": [
    "len(pages)"
   ]
  },
  {
   "cell_type": "code",
   "execution_count": 3,
   "metadata": {},
   "outputs": [
    {
     "data": {
      "text/plain": [
       "Document(metadata={'source': 'AI_Engineer_Roadmap.pdf', 'page': 0}, page_content=' \\n   \\ncodebasics.io  \\n \\n1 \\nAI Engineer Roadmap for Beginners  \\nFollowing is the roadmap  to learning  AI Engineer  (also known as ML Engineer ) skills for a total \\nbeginner. It includes FREE learning resources for technical skills (or tool skills) and soft (or core) skills  \\n          \\nPrerequisites : You must have skills or interests  to build skills in Coding and Math. Without these two \\nyou cannot become an AI engineer.  \\nTotal Duration: 8 Months  (4 hours  of study Every Day ) \\nAlso, AI Engineer = Data Scientist + Software Engineer  \\n \\n \\nWeek 0: Do Proper Research and protect yourself from SCAMS.  \\n \\n Unfortunately, a lot of systematic scams are happening in ed tech, especially in the \\ndata field where aspirants are provided with false promises like a 100% job guarantee or \\ntrapped into “Masterclasses” which are nothing but sales pitches to upsell their l ow-grade \\ncourses at exorbitant prices. You need to do complete research about the market and \\nmentors before starting your journey. Providing you the links to a few posts that we have \\nmade in this regard which will support your research.  \\n \\nEven though these  posts are NOT  sufficient, do your additional research.  \\n \\n')"
      ]
     },
     "execution_count": 3,
     "metadata": {},
     "output_type": "execute_result"
    }
   ],
   "source": [
    "page = pages[0]\n",
    "page"
   ]
  },
  {
   "cell_type": "code",
   "execution_count": 9,
   "metadata": {},
   "outputs": [
    {
     "name": "stdout",
     "output_type": "stream",
     "text": [
      " \n",
      "   \n",
      "codebasics.io  \n",
      " \n",
      "1 \n",
      "AI Engineer Roadmap for Beginners  \n",
      "Following is the roadmap  to learning  AI Engineer  (also known as ML Engineer ) skills for a total \n",
      "beginner. It includes FREE learning resources for technical skills (or tool skills) and soft (or core) skills  \n",
      "          \n",
      "Prerequisites : You must have skills or interests  to build skills in Coding and Math. Without these two \n",
      "you cannot become an AI engineer.  \n",
      "Total Duration: 8 Months  (4 hours  of study Every Day ) \n",
      "Also, AI Engi\n"
     ]
    }
   ],
   "source": [
    "print(page.page_content[0:500])"
   ]
  },
  {
   "cell_type": "markdown",
   "metadata": {},
   "source": [
    "### Text Loader"
   ]
  },
  {
   "cell_type": "code",
   "execution_count": 12,
   "metadata": {},
   "outputs": [],
   "source": [
    "from langchain_community.document_loaders import TextLoader\n",
    "loader = TextLoader('sample.txt')\n",
    "text = loader.load()"
   ]
  },
  {
   "cell_type": "code",
   "execution_count": 13,
   "metadata": {},
   "outputs": [
    {
     "data": {
      "text/plain": [
       "1"
      ]
     },
     "execution_count": 13,
     "metadata": {},
     "output_type": "execute_result"
    }
   ],
   "source": [
    "len(text)"
   ]
  },
  {
   "cell_type": "code",
   "execution_count": 14,
   "metadata": {},
   "outputs": [
    {
     "data": {
      "text/plain": [
       "[Document(metadata={'source': 'sample.txt'}, page_content='Install Anaconda or Miniconda\\nMake sure you have Conda installed on your system. You can download and install it from the Anaconda or Miniconda website.\\n\\n2. Install the Python Extension in VS Code\\nOpen VS Code.\\nGo to the Extensions view by clicking on the Extensions icon in the Activity Bar on the side or pressing Ctrl+Shift+X.\\nSearch for Python and install the extension from Microsoft.')]"
      ]
     },
     "execution_count": 14,
     "metadata": {},
     "output_type": "execute_result"
    }
   ],
   "source": [
    "text"
   ]
  },
  {
   "cell_type": "markdown",
   "metadata": {},
   "source": [
    "### Docs Loader"
   ]
  }
 ],
 "metadata": {
  "kernelspec": {
   "display_name": "conda",
   "language": "python",
   "name": "python3"
  },
  "language_info": {
   "codemirror_mode": {
    "name": "ipython",
    "version": 3
   },
   "file_extension": ".py",
   "mimetype": "text/x-python",
   "name": "python",
   "nbconvert_exporter": "python",
   "pygments_lexer": "ipython3",
   "version": "3.12.4"
  }
 },
 "nbformat": 4,
 "nbformat_minor": 2
}
